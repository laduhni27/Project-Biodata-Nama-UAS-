{
 "cells": [
  {
   "cell_type": "code",
   "execution_count": 1,
   "id": "252345cb",
   "metadata": {},
   "outputs": [
    {
     "name": "stdout",
     "output_type": "stream",
     "text": [
      "input nama: ilmi laduhni\n",
      "input alamat: dusun simpang kiri\n",
      "input ttl: pontianak 10 januari 2003\n",
      "input pekerjaan: mahasiswa\n",
      "input status: lajang\n",
      "================================\n",
      "Biodata anda adalah: \n",
      "nama: ilmi laduhni\n",
      "alamat: dusun simpang kiri\n",
      "ttl: pontianak 10 januari 2003\n",
      "pekerjaan: mahasiswa\n",
      "status: lajang\n",
      "apakah input lagi? (y/n): n\n"
     ]
    }
   ],
   "source": [
    "def get_biodata():\n",
    "    kebutuhan_data = ['nama', 'alamat', 'ttl', 'pekerjaan', 'status']\n",
    "    inputan_biodata = []\n",
    "    for data in kebutuhan_data:\n",
    "        inputan = input('input {}: '.format(data))\n",
    "        inputan_biodata.append(inputan)\n",
    " \n",
    "    print('================================')\n",
    "    print('Biodata anda adalah: ')\n",
    " \n",
    "    for id, hasil in enumerate(inputan_biodata):\n",
    "        print(kebutuhan_data[id] + ': ' + hasil)\n",
    "        \n",
    "def run():\n",
    "    while True:\n",
    "        get_biodata()\n",
    "        input_lagi = input('apakah input lagi? (y/n): ')\n",
    "        if input_lagi == 'y':\n",
    "            continue\n",
    "        elif input_lagi == 'n':\n",
    "            break\n",
    " \n",
    " \n",
    "if __name__ == '__main__':\n",
    "    run()"
   ]
  },
  {
   "cell_type": "code",
   "execution_count": null,
   "id": "701cbdef",
   "metadata": {},
   "outputs": [],
   "source": []
  }
 ],
 "metadata": {
  "kernelspec": {
   "display_name": "Python 3 (ipykernel)",
   "language": "python",
   "name": "python3"
  },
  "language_info": {
   "codemirror_mode": {
    "name": "ipython",
    "version": 3
   },
   "file_extension": ".py",
   "mimetype": "text/x-python",
   "name": "python",
   "nbconvert_exporter": "python",
   "pygments_lexer": "ipython3",
   "version": "3.9.7"
  }
 },
 "nbformat": 4,
 "nbformat_minor": 5
}
